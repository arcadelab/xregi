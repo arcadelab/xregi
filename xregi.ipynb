{
  "nbformat": 4,
  "nbformat_minor": 0,
  "metadata": {
    "colab": {
      "provenance": [],
      "authorship_tag": "ABX9TyMhu6rCeP+V0FM7jRGfm8rW",
      "include_colab_link": true
    },
    "kernelspec": {
      "name": "python3",
      "display_name": "Python 3"
    },
    "language_info": {
      "name": "python"
    },
    "accelerator": "GPU",
    "gpuClass": "standard"
  },
  "cells": [
    {
      "cell_type": "markdown",
      "metadata": {
        "id": "view-in-github",
        "colab_type": "text"
      },
      "source": [
        "<a href=\"https://colab.research.google.com/github/shez12/xregi/blob/dev-syn/xregi.ipynb\" target=\"_parent\"><img src=\"https://colab.research.google.com/assets/colab-badge.svg\" alt=\"Open In Colab\"/></a>"
      ]
    },
    {
      "cell_type": "code",
      "execution_count": null,
      "metadata": {
        "id": "04RfRgIqicaU",
        "colab": {
          "base_uri": "https://localhost:8080/"
        },
        "outputId": "4b56d20c-ed4f-44f5-e83a-8b19fde6ced2"
      },
      "outputs": [
        {
          "output_type": "stream",
          "name": "stdout",
          "text": [
            "Cloning into 'xregi'...\n",
            "remote: Enumerating objects: 567, done.\u001b[K\n",
            "remote: Counting objects: 100% (262/262), done.\u001b[K\n",
            "remote: Compressing objects: 100% (202/202), done.\u001b[K\n",
            "remote: Total 567 (delta 90), reused 216 (delta 59), pack-reused 305\u001b[K\n",
            "Receiving objects: 100% (567/567), 38.96 MiB | 23.49 MiB/s, done.\n",
            "Resolving deltas: 100% (265/265), done.\n",
            "/root/xregi/xregi/bin/xregi\n",
            "Branch 'dev-syn' set up to track remote branch 'dev-syn' from 'origin'.\n",
            "Switched to a new branch 'dev-syn'\n",
            "/root/xregi/xregi/bin/xregi/xregi\n"
          ]
        }
      ],
      "source": [
        "!git clone https://github.com/shez12/xregi\n",
        "%cd xregi\n",
        "!git checkout dev-syn\n",
        "%cd xregi\n"
      ]
    },
    {
      "cell_type": "code",
      "source": [
        "!pip install ."
      ],
      "metadata": {
        "colab": {
          "base_uri": "https://localhost:8080/",
          "height": 1000
        },
        "id": "NefV6maWGKId",
        "outputId": "41a39bba-4a56-488e-fb0b-0535707d79eb"
      },
      "execution_count": null,
      "outputs": [
        {
          "output_type": "stream",
          "name": "stdout",
          "text": [
            "Looking in indexes: https://pypi.org/simple, https://us-python.pkg.dev/colab-wheels/public/simple/\n",
            "Processing /content/xregi/xregi/xregi/xregi/xregi/xregi/xregi/xregi/xregi/xregi\n",
            "  Preparing metadata (setup.py) ... \u001b[?25l\u001b[?25hdone\n",
            "Requirement already satisfied: absl-py==1.2.0 in /usr/local/lib/python3.9/dist-packages (from xregi==1.0) (1.2.0)\n",
            "Collecting argparse==1.4.0\n",
            "  Using cached argparse-1.4.0-py2.py3-none-any.whl (23 kB)\n",
            "Requirement already satisfied: batchgenerators==0.24 in /usr/local/lib/python3.9/dist-packages (from xregi==1.0) (0.24)\n",
            "Requirement already satisfied: cachetools==5.2.0 in /usr/local/lib/python3.9/dist-packages (from xregi==1.0) (5.2.0)\n",
            "Requirement already satisfied: charset-normalizer==2.1.0 in /usr/local/lib/python3.9/dist-packages (from xregi==1.0) (2.1.0)\n",
            "Requirement already satisfied: contextlib2==21.6.0 in /usr/local/lib/python3.9/dist-packages (from xregi==1.0) (21.6.0)\n",
            "Requirement already satisfied: cycler==0.11.0 in /usr/local/lib/python3.9/dist-packages (from xregi==1.0) (0.11.0)\n",
            "Requirement already satisfied: dicom2nifti==2.4.3 in /usr/local/lib/python3.9/dist-packages (from xregi==1.0) (2.4.3)\n",
            "Requirement already satisfied: fonttools==4.34.4 in /usr/local/lib/python3.9/dist-packages (from xregi==1.0) (4.34.4)\n",
            "Requirement already satisfied: future==0.18.2 in /usr/local/lib/python3.9/dist-packages (from xregi==1.0) (0.18.2)\n",
            "Requirement already satisfied: grpcio==1.47.0 in /usr/local/lib/python3.9/dist-packages (from xregi==1.0) (1.47.0)\n",
            "Requirement already satisfied: h5py==3.7.0 in /usr/local/lib/python3.9/dist-packages (from xregi==1.0) (3.7.0)\n",
            "Requirement already satisfied: idna==3.3 in /usr/local/lib/python3.9/dist-packages (from xregi==1.0) (3.3)\n",
            "Requirement already satisfied: imageio==2.21.0 in /usr/local/lib/python3.9/dist-packages (from xregi==1.0) (2.21.0)\n",
            "Requirement already satisfied: imgaug==0.4.0 in /usr/local/lib/python3.9/dist-packages (from xregi==1.0) (0.4.0)\n",
            "Requirement already satisfied: importlib-metadata==4.12.0 in /usr/local/lib/python3.9/dist-packages (from xregi==1.0) (4.12.0)\n",
            "Requirement already satisfied: joblib==1.1.0 in /usr/local/lib/python3.9/dist-packages (from xregi==1.0) (1.1.0)\n",
            "Requirement already satisfied: kiwisolver==1.4.4 in /usr/local/lib/python3.9/dist-packages (from xregi==1.0) (1.4.4)\n",
            "Requirement already satisfied: linecache2==1.0.0 in /usr/local/lib/python3.9/dist-packages (from xregi==1.0) (1.0.0)\n",
            "Requirement already satisfied: markdown==3.4.1 in /usr/local/lib/python3.9/dist-packages (from xregi==1.0) (3.4.1)\n",
            "Requirement already satisfied: markupsafe==2.1.1 in /usr/local/lib/python3.9/dist-packages (from xregi==1.0) (2.1.1)\n",
            "Requirement already satisfied: matplotlib==3.5.2 in /usr/local/lib/python3.9/dist-packages (from xregi==1.0) (3.5.2)\n",
            "Requirement already satisfied: medpy==0.4.0 in /usr/local/lib/python3.9/dist-packages (from xregi==1.0) (0.4.0)\n",
            "Requirement already satisfied: ml-collections==0.1.1 in /usr/local/lib/python3.9/dist-packages (from xregi==1.0) (0.1.1)\n",
            "Requirement already satisfied: networkx==2.8.5 in /usr/local/lib/python3.9/dist-packages (from xregi==1.0) (2.8.5)\n",
            "Requirement already satisfied: nibabel==4.0.1 in /usr/local/lib/python3.9/dist-packages (from xregi==1.0) (4.0.1)\n",
            "Requirement already satisfied: numpy==1.23.1 in /usr/local/lib/python3.9/dist-packages (from xregi==1.0) (1.23.1)\n",
            "Requirement already satisfied: oauthlib==3.2.0 in /usr/local/lib/python3.9/dist-packages (from xregi==1.0) (3.2.0)\n",
            "Requirement already satisfied: opencv-python==4.6.0.66 in /usr/local/lib/python3.9/dist-packages (from xregi==1.0) (4.6.0.66)\n",
            "Requirement already satisfied: packaging==21.3 in /usr/local/lib/python3.9/dist-packages (from xregi==1.0) (21.3)\n",
            "Requirement already satisfied: pandas==1.4.3 in /usr/local/lib/python3.9/dist-packages (from xregi==1.0) (1.4.3)\n",
            "Requirement already satisfied: pillow==9.2.0 in /usr/local/lib/python3.9/dist-packages (from xregi==1.0) (9.2.0)\n",
            "Requirement already satisfied: pyasn1==0.4.8 in /usr/local/lib/python3.9/dist-packages (from xregi==1.0) (0.4.8)\n",
            "Requirement already satisfied: pyasn1-modules==0.2.8 in /usr/local/lib/python3.9/dist-packages (from xregi==1.0) (0.2.8)\n",
            "Requirement already satisfied: pydicom==2.3.0 in /usr/local/lib/python3.9/dist-packages (from xregi==1.0) (2.3.0)\n",
            "Requirement already satisfied: pyparsing==3.0.9 in /usr/local/lib/python3.9/dist-packages (from xregi==1.0) (3.0.9)\n",
            "Requirement already satisfied: python-dateutil==2.8.2 in /usr/local/lib/python3.9/dist-packages (from xregi==1.0) (2.8.2)\n",
            "Requirement already satisfied: python-gdcm==3.0.14 in /usr/local/lib/python3.9/dist-packages (from xregi==1.0) (3.0.14)\n",
            "Requirement already satisfied: pytz==2022.1 in /usr/local/lib/python3.9/dist-packages (from xregi==1.0) (2022.1)\n",
            "Requirement already satisfied: pywavelets==1.3.0 in /usr/local/lib/python3.9/dist-packages (from xregi==1.0) (1.3.0)\n",
            "Requirement already satisfied: pyyaml==6.0 in /usr/local/lib/python3.9/dist-packages (from xregi==1.0) (6.0)\n",
            "Requirement already satisfied: requests==2.28.1 in /usr/local/lib/python3.9/dist-packages (from xregi==1.0) (2.28.1)\n",
            "Requirement already satisfied: requests-oauthlib==1.3.1 in /usr/local/lib/python3.9/dist-packages (from xregi==1.0) (1.3.1)\n",
            "Requirement already satisfied: rsa==4.9 in /usr/local/lib/python3.9/dist-packages (from xregi==1.0) (4.9)\n",
            "Requirement already satisfied: scikit-image==0.19.3 in /usr/local/lib/python3.9/dist-packages (from xregi==1.0) (0.19.3)\n",
            "Requirement already satisfied: scikit-learn==1.1.1 in /usr/local/lib/python3.9/dist-packages (from xregi==1.0) (1.1.1)\n",
            "Requirement already satisfied: scipy==1.9.0 in /usr/local/lib/python3.9/dist-packages (from xregi==1.0) (1.9.0)\n",
            "Requirement already satisfied: shapely==1.8.2 in /usr/local/lib/python3.9/dist-packages (from xregi==1.0) (1.8.2)\n",
            "Requirement already satisfied: simpleitk==2.1.1.2 in /usr/local/lib/python3.9/dist-packages (from xregi==1.0) (2.1.1.2)\n",
            "Requirement already satisfied: six==1.16.0 in /usr/local/lib/python3.9/dist-packages (from xregi==1.0) (1.16.0)\n",
            "Requirement already satisfied: sklearn==0.0 in /usr/local/lib/python3.9/dist-packages (from xregi==1.0) (0.0)\n",
            "Requirement already satisfied: threadpoolctl==3.1.0 in /usr/local/lib/python3.9/dist-packages (from xregi==1.0) (3.1.0)\n",
            "Requirement already satisfied: tifffile==2022.7.31 in /usr/local/lib/python3.9/dist-packages (from xregi==1.0) (2022.7.31)\n",
            "Requirement already satisfied: torch==1.12.0 in /usr/local/lib/python3.9/dist-packages (from xregi==1.0) (1.12.0)\n",
            "Requirement already satisfied: torchvision==0.13.0 in /usr/local/lib/python3.9/dist-packages (from xregi==1.0) (0.13.0)\n",
            "Requirement already satisfied: tqdm==4.64.0 in /usr/local/lib/python3.9/dist-packages (from xregi==1.0) (4.64.0)\n",
            "Requirement already satisfied: traceback2==1.4.0 in /usr/local/lib/python3.9/dist-packages (from xregi==1.0) (1.4.0)\n",
            "Requirement already satisfied: typing-extensions==4.3.0 in /usr/local/lib/python3.9/dist-packages (from xregi==1.0) (4.3.0)\n",
            "Requirement already satisfied: unittest2==1.1.0 in /usr/local/lib/python3.9/dist-packages (from xregi==1.0) (1.1.0)\n",
            "Requirement already satisfied: urllib3==1.26.11 in /usr/local/lib/python3.9/dist-packages (from xregi==1.0) (1.26.11)\n",
            "Requirement already satisfied: zipp==3.8.1 in /usr/local/lib/python3.9/dist-packages (from xregi==1.0) (3.8.1)\n",
            "Requirement already satisfied: setuptools in /usr/local/lib/python3.9/dist-packages (from nibabel==4.0.1->xregi==1.0) (67.6.1)\n",
            "Requirement already satisfied: certifi>=2017.4.17 in /usr/local/lib/python3.9/dist-packages (from requests==2.28.1->xregi==1.0) (2022.12.7)\n",
            "Building wheels for collected packages: xregi\n",
            "  Building wheel for xregi (setup.py) ... \u001b[?25l\u001b[?25hdone\n",
            "  Created wheel for xregi: filename=xregi-1.0-py3-none-any.whl size=31677 sha256=7ccc343702ffa010a8ebf01546298e71e6840ebcdf59f4b78488ecf6d58c31b2\n",
            "  Stored in directory: /tmp/pip-ephem-wheel-cache-oi3wl2o0/wheels/10/1a/9f/7bfba397fb2795dd7495c5c72a2d389ebf58af8f610e977eaa\n",
            "Successfully built xregi\n",
            "Installing collected packages: argparse, xregi\n",
            "  Attempting uninstall: xregi\n",
            "    Found existing installation: xregi 1.0\n",
            "    Uninstalling xregi-1.0:\n",
            "      Successfully uninstalled xregi-1.0\n",
            "Successfully installed argparse-1.4.0 xregi-1.0\n"
          ]
        },
        {
          "output_type": "display_data",
          "data": {
            "application/vnd.colab-display-data+json": {
              "pip_warning": {
                "packages": [
                  "argparse"
                ]
              }
            }
          },
          "metadata": {}
        }
      ]
    },
    {
      "cell_type": "code",
      "source": [
        "!python registration_2d_3d.py"
      ],
      "metadata": {
        "colab": {
          "base_uri": "https://localhost:8080/"
        },
        "id": "LdRzsq-oDiwe",
        "outputId": "7f50610b-1edc-4f7d-da1a-7c2385c21bf0"
      },
      "execution_count": null,
      "outputs": [
        {
          "output_type": "stream",
          "name": "stdout",
          "text": [
            "Current working directory:  /root/xregi/xregi/bin/xregi/xregi\n",
            "Traceback (most recent call last):\n",
            "  File \"/root/xregi/xregi/bin/xregi/xregi/registration_2d_3d.py\", line 10, in <module>\n",
            "    class Registration2D3D:\n",
            "  File \"/root/xregi/xregi/bin/xregi/xregi/registration_2d_3d.py\", line 20, in Registration2D3D\n",
            "    landmarks_3d: Dict[str, List[float, float, float]],\n",
            "  File \"/usr/lib/python3.9/typing.py\", line 277, in inner\n",
            "    return func(*args, **kwds)\n",
            "  File \"/usr/lib/python3.9/typing.py\", line 838, in __getitem__\n",
            "    _check_generic(self, params, self._nparams)\n",
            "  File \"/usr/local/lib/python3.9/dist-packages/typing_extensions.py\", line 104, in _check_generic\n",
            "    raise TypeError(f\"Too {'many' if alen > elen else 'few'} parameters for {cls};\"\n",
            "TypeError: Too many parameters for typing.List; actual 3, expected 1\n"
          ]
        }
      ]
    },
    {
      "cell_type": "code",
      "source": [],
      "metadata": {
        "colab": {
          "base_uri": "https://localhost:8080/"
        },
        "id": "UgHMEPfrEYwB",
        "outputId": "aed02a72-cfab-4eb0-9e67-3d781d5a523b"
      },
      "execution_count": null,
      "outputs": [
        {
          "output_type": "stream",
          "name": "stdout",
          "text": [
            "/root/xregi/xregi/bin\n"
          ]
        }
      ]
    },
    {
      "cell_type": "code",
      "source": [
        "\n",
        "!chmod +x /root/xregi/xregi/bin/xreg-hip-surg-pelvis-single-view-regi-2d-3d\n",
        "!/root/xregi/xregi/bin/xreg-hip-surg-pelvis-single-view-regi-2d-3d"
      ],
      "metadata": {
        "colab": {
          "base_uri": "https://localhost:8080/"
        },
        "id": "JYnVghIeKmI7",
        "outputId": "277f92be-facf-4254-b425-0b447ab1147d"
      },
      "execution_count": null,
      "outputs": [
        {
          "output_type": "stream",
          "name": "stdout",
          "text": [
            "Error parsing command line arguments: Not enough positional arguments; 0 provided, need 4\n",
            "Usage xreg-hip-surg-pelvis-single-view-regi-2d-3d [options] <Input CT vol.> <3D Landmarks> <Proj. Data File> <output pose> [<output debug data file>]\n"
          ]
        }
      ]
    },
    {
      "cell_type": "code",
      "source": [
        "import subprocess\n",
        "\n",
        "# This is a simple test script to call the executable file\n",
        "# the executables are located in the bin folder\n",
        "# the data is located in the data folder\n",
        "# the executables that are called in the scritps are called\n",
        "# xreg-hip-surg-pelvis-single-view-regi-2d-3d\n",
        "\n",
        "def main(runOptions: str):\n",
        "    # Call the executable file\n",
        "\n",
        "    if runOptions == 'run_reg':\n",
        "        print(\"run_reg is running ...\")\n",
        "\n",
        "        result = subprocess.run([   \"/root/xregi/xregi/bin/xreg-hip-surg-pelvis-single-view-regi-2d-3d\",\n",
        "                                    \"data/pelvis.nii.gz\",\n",
        "                                    \"data/pelvis_regi_2d_3d_lands_wo_id.fcsv\",\n",
        "                                    \"data/example1_1_pd_003.h5\",\n",
        "                                    \"result/regi_pose_example1_1_pd_003_proj0.h5\",\n",
        "                                    \"result/regi_debug_example1_1_pd_003_proj0_w_seg.h5\",\n",
        "                                    \"-s\",\n",
        "                                    \"data/pelvis_seg.nii.gz\"], stdout=subprocess.PIPE)\n",
        "        print(\"11\")\n",
        "        # Print the output of the executable file\n",
        "        print(result)\n",
        "\n",
        "    elif runOptions == 'run_viz':\n",
        "        result = subprocess.run([   \"bin/xreg-regi2d3d-replay\",\n",
        "                                    \"result/regi_debug_example1_1_pd_003_proj0_w_seg.h5\",\n",
        "                                    \"--video-fps\",\n",
        "                                    \"10\",\n",
        "                                    \"--proj-ds\",\n",
        "                                    \"0.5\"], stdout=subprocess.PIPE)\n",
        "        print(result.stdout.decode())\n",
        "\n",
        "main(\"run_reg\")"
      ],
      "metadata": {
        "colab": {
          "base_uri": "https://localhost:8080/"
        },
        "id": "kCYE78w4S903",
        "outputId": "c6286de7-13da-4ae2-ca16-eff84923f3a7"
      },
      "execution_count": null,
      "outputs": [
        {
          "output_type": "stream",
          "name": "stdout",
          "text": [
            "run_reg is running ...\n",
            "11\n",
            "CompletedProcess(args=['/root/xregi/xregi/bin/xreg-hip-surg-pelvis-single-view-regi-2d-3d', 'data/pelvis.nii.gz', 'data/pelvis_regi_2d_3d_lands_wo_id.fcsv', 'data/example1_1_pd_003.h5', 'result/regi_pose_example1_1_pd_003_proj0.h5', 'result/regi_debug_example1_1_pd_003_proj0_w_seg.h5', '-s', 'data/pelvis_seg.nii.gz'], returncode=-6, stdout=b'')\n"
          ]
        }
      ]
    },
    {
      "cell_type": "code",
      "source": [],
      "metadata": {
        "id": "cvb2niwFV1SD"
      },
      "execution_count": null,
      "outputs": []
    }
  ]
}