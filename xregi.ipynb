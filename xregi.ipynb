{
 "cells": [
  {
   "cell_type": "code",
   "execution_count": 1,
   "metadata": {},
   "outputs": [
    {
     "name": "stdout",
     "output_type": "stream",
     "text": [
      "c:\\Users\\zhangcong\\Desktop\\Newtest\\xregi\n"
     ]
    },
    {
     "name": "stderr",
     "output_type": "stream",
     "text": [
      "Cloning into 'xregi'...\n"
     ]
    },
    {
     "name": "stdout",
     "output_type": "stream",
     "text": [
      "Your branch is up to date with 'origin/master'.\n",
      "c:\\Users\\zhangcong\\Desktop\\Newtest\\xregi\\xregi\n"
     ]
    },
    {
     "name": "stderr",
     "output_type": "stream",
     "text": [
      "Already on 'master'\n"
     ]
    }
   ],
   "source": [
    "!git clone https://github.com/shez12/xregi\n",
    "%cd xregi\n",
    "!git checkout master\n"
   ]
  },
  {
   "cell_type": "code",
   "execution_count": 3,
   "metadata": {},
   "outputs": [
    {
     "name": "stdout",
     "output_type": "stream",
     "text": [
      "Processing c:\\users\\zhangcong\\desktop\\newtest\\xregi\\xregiNote: you may need to restart the kernel to use updated packages.\n",
      "\n",
      "  Preparing metadata (setup.py): started\n",
      "  Preparing metadata (setup.py): finished with status 'done'\n",
      "Requirement already satisfied: absl-py==1.2.0 in c:\\users\\zhangcong\\appdata\\local\\programs\\python\\python39\\lib\\site-packages (from xregi==1.0) (1.2.0)\n",
      "Collecting argparse==1.4.0\n",
      "  Using cached argparse-1.4.0-py2.py3-none-any.whl (23 kB)\n",
      "Requirement already satisfied: batchgenerators==0.24 in c:\\users\\zhangcong\\appdata\\local\\programs\\python\\python39\\lib\\site-packages (from xregi==1.0) (0.24)\n",
      "Requirement already satisfied: cachetools==5.2.0 in c:\\users\\zhangcong\\appdata\\local\\programs\\python\\python39\\lib\\site-packages (from xregi==1.0) (5.2.0)\n",
      "Requirement already satisfied: charset-normalizer==2.1.0 in c:\\users\\zhangcong\\appdata\\local\\programs\\python\\python39\\lib\\site-packages (from xregi==1.0) (2.1.0)\n",
      "Requirement already satisfied: contextlib2==21.6.0 in c:\\users\\zhangcong\\appdata\\local\\programs\\python\\python39\\lib\\site-packages (from xregi==1.0) (21.6.0)\n",
      "Requirement already satisfied: cycler==0.11.0 in c:\\users\\zhangcong\\appdata\\local\\programs\\python\\python39\\lib\\site-packages (from xregi==1.0) (0.11.0)\n",
      "Requirement already satisfied: dicom2nifti==2.4.3 in c:\\users\\zhangcong\\appdata\\local\\programs\\python\\python39\\lib\\site-packages (from xregi==1.0) (2.4.3)\n",
      "Requirement already satisfied: fonttools==4.34.4 in c:\\users\\zhangcong\\appdata\\local\\programs\\python\\python39\\lib\\site-packages (from xregi==1.0) (4.34.4)\n",
      "Requirement already satisfied: future==0.18.2 in c:\\users\\zhangcong\\appdata\\local\\programs\\python\\python39\\lib\\site-packages (from xregi==1.0) (0.18.2)\n",
      "Requirement already satisfied: grpcio==1.48.2 in c:\\users\\zhangcong\\appdata\\local\\programs\\python\\python39\\lib\\site-packages (from xregi==1.0) (1.48.2)\n",
      "Requirement already satisfied: h5py==3.7.0 in c:\\users\\zhangcong\\appdata\\local\\programs\\python\\python39\\lib\\site-packages (from xregi==1.0) (3.7.0)\n",
      "Requirement already satisfied: idna==3.3 in c:\\users\\zhangcong\\appdata\\local\\programs\\python\\python39\\lib\\site-packages (from xregi==1.0) (3.3)\n",
      "Requirement already satisfied: imageio==2.21.0 in c:\\users\\zhangcong\\appdata\\local\\programs\\python\\python39\\lib\\site-packages (from xregi==1.0) (2.21.0)\n",
      "Requirement already satisfied: imgaug==0.4.0 in c:\\users\\zhangcong\\appdata\\local\\programs\\python\\python39\\lib\\site-packages (from xregi==1.0) (0.4.0)\n",
      "Requirement already satisfied: importlib-metadata==4.12.0 in c:\\users\\zhangcong\\appdata\\local\\programs\\python\\python39\\lib\\site-packages (from xregi==1.0) (4.12.0)\n",
      "Requirement already satisfied: joblib==1.1.1 in c:\\users\\zhangcong\\appdata\\local\\programs\\python\\python39\\lib\\site-packages (from xregi==1.0) (1.1.1)\n",
      "Requirement already satisfied: kiwisolver==1.4.4 in c:\\users\\zhangcong\\appdata\\local\\programs\\python\\python39\\lib\\site-packages (from xregi==1.0) (1.4.4)\n",
      "Requirement already satisfied: linecache2==1.0.0 in c:\\users\\zhangcong\\appdata\\local\\programs\\python\\python39\\lib\\site-packages (from xregi==1.0) (1.0.0)\n",
      "Requirement already satisfied: markdown==3.4.1 in c:\\users\\zhangcong\\appdata\\local\\programs\\python\\python39\\lib\\site-packages (from xregi==1.0) (3.4.1)\n",
      "Requirement already satisfied: markupsafe==2.1.1 in c:\\users\\zhangcong\\appdata\\local\\programs\\python\\python39\\lib\\site-packages (from xregi==1.0) (2.1.1)\n",
      "Requirement already satisfied: matplotlib==3.5.2 in c:\\users\\zhangcong\\appdata\\local\\programs\\python\\python39\\lib\\site-packages (from xregi==1.0) (3.5.2)\n",
      "Requirement already satisfied: medpy==0.4.0 in c:\\users\\zhangcong\\appdata\\local\\programs\\python\\python39\\lib\\site-packages (from xregi==1.0) (0.4.0)\n",
      "Requirement already satisfied: ml-collections==0.1.1 in c:\\users\\zhangcong\\appdata\\local\\programs\\python\\python39\\lib\\site-packages (from xregi==1.0) (0.1.1)\n",
      "Requirement already satisfied: networkx==2.8.5 in c:\\users\\zhangcong\\appdata\\local\\programs\\python\\python39\\lib\\site-packages (from xregi==1.0) (2.8.5)\n",
      "Requirement already satisfied: nibabel==4.0.1 in c:\\users\\zhangcong\\appdata\\local\\programs\\python\\python39\\lib\\site-packages (from xregi==1.0) (4.0.1)\n",
      "Requirement already satisfied: numpy==1.23.1 in c:\\users\\zhangcong\\appdata\\local\\programs\\python\\python39\\lib\\site-packages (from xregi==1.0) (1.23.1)\n",
      "Requirement already satisfied: oauthlib==3.2.0 in c:\\users\\zhangcong\\appdata\\local\\programs\\python\\python39\\lib\\site-packages (from xregi==1.0) (3.2.0)\n",
      "Requirement already satisfied: opencv-python==4.6.0.66 in c:\\users\\zhangcong\\appdata\\local\\programs\\python\\python39\\lib\\site-packages (from xregi==1.0) (4.6.0.66)\n",
      "Requirement already satisfied: packaging==21.3 in c:\\users\\zhangcong\\appdata\\local\\programs\\python\\python39\\lib\\site-packages (from xregi==1.0) (21.3)\n",
      "Requirement already satisfied: pandas==1.5.3 in c:\\users\\zhangcong\\appdata\\local\\programs\\python\\python39\\lib\\site-packages (from xregi==1.0) (1.5.3)\n",
      "Requirement already satisfied: pillow==9.2.0 in c:\\users\\zhangcong\\appdata\\local\\programs\\python\\python39\\lib\\site-packages (from xregi==1.0) (9.2.0)\n",
      "Requirement already satisfied: pyasn1==0.4.8 in c:\\users\\zhangcong\\appdata\\local\\programs\\python\\python39\\lib\\site-packages (from xregi==1.0) (0.4.8)\n",
      "Requirement already satisfied: pyasn1-modules==0.2.8 in c:\\users\\zhangcong\\appdata\\local\\programs\\python\\python39\\lib\\site-packages (from xregi==1.0) (0.2.8)\n",
      "Requirement already satisfied: pydicom==2.3.0 in c:\\users\\zhangcong\\appdata\\local\\programs\\python\\python39\\lib\\site-packages (from xregi==1.0) (2.3.0)\n",
      "Requirement already satisfied: pyparsing==3.0.9 in c:\\users\\zhangcong\\appdata\\local\\programs\\python\\python39\\lib\\site-packages (from xregi==1.0) (3.0.9)\n",
      "Requirement already satisfied: python-dateutil==2.8.2 in c:\\users\\zhangcong\\appdata\\local\\programs\\python\\python39\\lib\\site-packages (from xregi==1.0) (2.8.2)\n",
      "Requirement already satisfied: python-gdcm==3.0.14 in c:\\users\\zhangcong\\appdata\\local\\programs\\python\\python39\\lib\\site-packages (from xregi==1.0) (3.0.14)\n",
      "Requirement already satisfied: pytz==2022.5 in c:\\users\\zhangcong\\appdata\\local\\programs\\python\\python39\\lib\\site-packages (from xregi==1.0) (2022.5)\n",
      "Requirement already satisfied: pywavelets==1.3.0 in c:\\users\\zhangcong\\appdata\\local\\programs\\python\\python39\\lib\\site-packages (from xregi==1.0) (1.3.0)\n",
      "Requirement already satisfied: pyyaml==6.0 in c:\\users\\zhangcong\\appdata\\local\\programs\\python\\python39\\lib\\site-packages (from xregi==1.0) (6.0)\n",
      "Requirement already satisfied: requests==2.28.1 in c:\\users\\zhangcong\\appdata\\local\\programs\\python\\python39\\lib\\site-packages (from xregi==1.0) (2.28.1)\n",
      "Requirement already satisfied: requests-oauthlib==1.3.1 in c:\\users\\zhangcong\\appdata\\local\\programs\\python\\python39\\lib\\site-packages (from xregi==1.0) (1.3.1)\n",
      "Requirement already satisfied: rsa==4.9 in c:\\users\\zhangcong\\appdata\\local\\programs\\python\\python39\\lib\\site-packages (from xregi==1.0) (4.9)\n",
      "Requirement already satisfied: scikit-image==0.19.3 in c:\\users\\zhangcong\\appdata\\local\\programs\\python\\python39\\lib\\site-packages (from xregi==1.0) (0.19.3)\n",
      "Requirement already satisfied: scikit-learn==1.1.1 in c:\\users\\zhangcong\\appdata\\local\\programs\\python\\python39\\lib\\site-packages (from xregi==1.0) (1.1.1)\n",
      "Requirement already satisfied: scipy==1.9.0 in c:\\users\\zhangcong\\appdata\\local\\programs\\python\\python39\\lib\\site-packages (from xregi==1.0) (1.9.0)\n",
      "Requirement already satisfied: shapely==1.8.2 in c:\\users\\zhangcong\\appdata\\local\\programs\\python\\python39\\lib\\site-packages (from xregi==1.0) (1.8.2)\n",
      "Requirement already satisfied: simpleitk==2.1.1.2 in c:\\users\\zhangcong\\appdata\\local\\programs\\python\\python39\\lib\\site-packages (from xregi==1.0) (2.1.1.2)\n",
      "Requirement already satisfied: six==1.16.0 in c:\\users\\zhangcong\\appdata\\local\\programs\\python\\python39\\lib\\site-packages (from xregi==1.0) (1.16.0)\n",
      "Requirement already satisfied: sklearn==0.0 in c:\\users\\zhangcong\\appdata\\local\\programs\\python\\python39\\lib\\site-packages (from xregi==1.0) (0.0)\n",
      "Requirement already satisfied: threadpoolctl==3.1.0 in c:\\users\\zhangcong\\appdata\\local\\programs\\python\\python39\\lib\\site-packages (from xregi==1.0) (3.1.0)\n",
      "Requirement already satisfied: tifffile==2022.7.31 in c:\\users\\zhangcong\\appdata\\local\\programs\\python\\python39\\lib\\site-packages (from xregi==1.0) (2022.7.31)\n",
      "Requirement already satisfied: torch==2.0.0 in c:\\users\\zhangcong\\appdata\\local\\programs\\python\\python39\\lib\\site-packages (from xregi==1.0) (2.0.0)\n",
      "Requirement already satisfied: tqdm==4.64.0 in c:\\users\\zhangcong\\appdata\\local\\programs\\python\\python39\\lib\\site-packages (from xregi==1.0) (4.64.0)\n",
      "Requirement already satisfied: traceback2==1.4.0 in c:\\users\\zhangcong\\appdata\\local\\programs\\python\\python39\\lib\\site-packages (from xregi==1.0) (1.4.0)\n",
      "Requirement already satisfied: typing-extensions==4.3.0 in c:\\users\\zhangcong\\appdata\\local\\programs\\python\\python39\\lib\\site-packages (from xregi==1.0) (4.3.0)\n",
      "Requirement already satisfied: unittest2==1.1.0 in c:\\users\\zhangcong\\appdata\\local\\programs\\python\\python39\\lib\\site-packages (from xregi==1.0) (1.1.0)\n",
      "Requirement already satisfied: urllib3==1.26.11 in c:\\users\\zhangcong\\appdata\\local\\programs\\python\\python39\\lib\\site-packages (from xregi==1.0) (1.26.11)\n",
      "Requirement already satisfied: zipp==3.8.1 in c:\\users\\zhangcong\\appdata\\local\\programs\\python\\python39\\lib\\site-packages (from xregi==1.0) (3.8.1)\n",
      "Requirement already satisfied: setuptools in c:\\users\\zhangcong\\appdata\\local\\programs\\python\\python39\\lib\\site-packages (from nibabel==4.0.1->xregi==1.0) (58.1.0)\n",
      "Requirement already satisfied: certifi>=2017.4.17 in c:\\users\\zhangcong\\appdata\\local\\programs\\python\\python39\\lib\\site-packages (from requests==2.28.1->xregi==1.0) (2022.12.7)\n",
      "Requirement already satisfied: sympy in c:\\users\\zhangcong\\appdata\\local\\programs\\python\\python39\\lib\\site-packages (from torch==2.0.0->xregi==1.0) (1.11.1)\n",
      "Requirement already satisfied: jinja2 in c:\\users\\zhangcong\\appdata\\local\\programs\\python\\python39\\lib\\site-packages (from torch==2.0.0->xregi==1.0) (3.1.2)\n",
      "Requirement already satisfied: filelock in c:\\users\\zhangcong\\appdata\\local\\programs\\python\\python39\\lib\\site-packages (from torch==2.0.0->xregi==1.0) (3.10.7)\n",
      "Requirement already satisfied: colorama in c:\\users\\zhangcong\\appdata\\roaming\\python\\python39\\site-packages (from tqdm==4.64.0->xregi==1.0) (0.4.6)\n",
      "Requirement already satisfied: mpmath>=0.19 in c:\\users\\zhangcong\\appdata\\local\\programs\\python\\python39\\lib\\site-packages (from sympy->torch==2.0.0->xregi==1.0) (1.3.0)\n",
      "Using legacy 'setup.py install' for xregi, since package 'wheel' is not installed.\n",
      "Installing collected packages: argparse, xregi\n",
      "  Attempting uninstall: xregi\n",
      "    Found existing installation: xregi 1.0\n",
      "    Uninstalling xregi-1.0:\n",
      "      Successfully uninstalled xregi-1.0\n",
      "  Running setup.py install for xregi: started\n",
      "  Running setup.py install for xregi: finished with status 'done'\n",
      "Successfully installed argparse-1.4.0 xregi-1.0\n"
     ]
    },
    {
     "name": "stderr",
     "output_type": "stream",
     "text": [
      "WARNING: You are using pip version 22.0.4; however, version 23.1.2 is available.\n",
      "You should consider upgrading via the 'c:\\Users\\zhangcong\\AppData\\Local\\Programs\\Python\\Python39\\python.exe -m pip install --upgrade pip' command.\n"
     ]
    }
   ],
   "source": [
    "%pip install ."
   ]
  },
  {
   "cell_type": "code",
   "execution_count": 28,
   "metadata": {},
   "outputs": [
    {
     "name": "stderr",
     "output_type": "stream",
     "text": [
      "'wget' is not recognized as an internal or external command,\n",
      "operable program or batch file.\n"
     ]
    }
   ],
   "source": [
    "!wget --load-cookies /tmp/cookies.txt \"https://docs.google.com/uc?export=download&confirm=$(wget --quiet --save-cookies /tmp/cookies.txt --keep-session-cookies --no-check-certificate 'https://docs.google.com/uc?export=download&id=1wjrxNE6B0pX3IooGxwC_cjf4n8MhxU1p' -O- | sed -rn 's/.*confirm=([0-9A-Za-z_]+).*/\\1\\n/p')&id=1wjrxNE6B0pX3IooGxwC_cjf4n8MhxU1p\" -O data.zip && rm -rf /tmp/cookies.txt"
   ]
  },
  {
   "cell_type": "code",
   "execution_count": 23,
   "metadata": {},
   "outputs": [
    {
     "ename": "BadZipFile",
     "evalue": "File is not a zip file",
     "output_type": "error",
     "traceback": [
      "\u001b[1;31m---------------------------------------------------------------------------\u001b[0m",
      "\u001b[1;31mBadZipFile\u001b[0m                                Traceback (most recent call last)",
      "Cell \u001b[1;32mIn[23], line 2\u001b[0m\n\u001b[0;32m      1\u001b[0m \u001b[39mimport\u001b[39;00m \u001b[39mzipfile\u001b[39;00m\n\u001b[1;32m----> 2\u001b[0m \u001b[39mwith\u001b[39;00m zipfile\u001b[39m.\u001b[39;49mZipFile(\u001b[39m\"\u001b[39;49m\u001b[39mdata.zip\u001b[39;49m\u001b[39m\"\u001b[39;49m, \u001b[39m'\u001b[39;49m\u001b[39mr\u001b[39;49m\u001b[39m'\u001b[39;49m) \u001b[39mas\u001b[39;00m zip_ref:\n\u001b[0;32m      3\u001b[0m     zip_ref\u001b[39m.\u001b[39mextractall(\u001b[39m\"\u001b[39m\u001b[39mxregi/data\u001b[39m\u001b[39m\"\u001b[39m)\n",
      "File \u001b[1;32mc:\\Users\\zhangcong\\AppData\\Local\\Programs\\Python\\Python39\\lib\\zipfile.py:1266\u001b[0m, in \u001b[0;36mZipFile.__init__\u001b[1;34m(self, file, mode, compression, allowZip64, compresslevel, strict_timestamps)\u001b[0m\n\u001b[0;32m   1264\u001b[0m \u001b[39mtry\u001b[39;00m:\n\u001b[0;32m   1265\u001b[0m     \u001b[39mif\u001b[39;00m mode \u001b[39m==\u001b[39m \u001b[39m'\u001b[39m\u001b[39mr\u001b[39m\u001b[39m'\u001b[39m:\n\u001b[1;32m-> 1266\u001b[0m         \u001b[39mself\u001b[39;49m\u001b[39m.\u001b[39;49m_RealGetContents()\n\u001b[0;32m   1267\u001b[0m     \u001b[39melif\u001b[39;00m mode \u001b[39min\u001b[39;00m (\u001b[39m'\u001b[39m\u001b[39mw\u001b[39m\u001b[39m'\u001b[39m, \u001b[39m'\u001b[39m\u001b[39mx\u001b[39m\u001b[39m'\u001b[39m):\n\u001b[0;32m   1268\u001b[0m         \u001b[39m# set the modified flag so central directory gets written\u001b[39;00m\n\u001b[0;32m   1269\u001b[0m         \u001b[39m# even if no files are added to the archive\u001b[39;00m\n\u001b[0;32m   1270\u001b[0m         \u001b[39mself\u001b[39m\u001b[39m.\u001b[39m_didModify \u001b[39m=\u001b[39m \u001b[39mTrue\u001b[39;00m\n",
      "File \u001b[1;32mc:\\Users\\zhangcong\\AppData\\Local\\Programs\\Python\\Python39\\lib\\zipfile.py:1333\u001b[0m, in \u001b[0;36mZipFile._RealGetContents\u001b[1;34m(self)\u001b[0m\n\u001b[0;32m   1331\u001b[0m     \u001b[39mraise\u001b[39;00m BadZipFile(\u001b[39m\"\u001b[39m\u001b[39mFile is not a zip file\u001b[39m\u001b[39m\"\u001b[39m)\n\u001b[0;32m   1332\u001b[0m \u001b[39mif\u001b[39;00m \u001b[39mnot\u001b[39;00m endrec:\n\u001b[1;32m-> 1333\u001b[0m     \u001b[39mraise\u001b[39;00m BadZipFile(\u001b[39m\"\u001b[39m\u001b[39mFile is not a zip file\u001b[39m\u001b[39m\"\u001b[39m)\n\u001b[0;32m   1334\u001b[0m \u001b[39mif\u001b[39;00m \u001b[39mself\u001b[39m\u001b[39m.\u001b[39mdebug \u001b[39m>\u001b[39m \u001b[39m1\u001b[39m:\n\u001b[0;32m   1335\u001b[0m     \u001b[39mprint\u001b[39m(endrec)\n",
      "\u001b[1;31mBadZipFile\u001b[0m: File is not a zip file"
     ]
    }
   ],
   "source": [
    "import zipfile\n",
    "with zipfile.ZipFile(\"data.zip\", 'r') as zip_ref:\n",
    "    zip_ref.extractall(\"xregi/data\")"
   ]
  },
  {
   "cell_type": "code",
   "execution_count": null,
   "metadata": {},
   "outputs": [],
   "source": [
    "import subprocess\n",
    "subprocess.run([    \"python\",\n",
    "                    \"main.py\",\n",
    "                    \"data/xray\",  # xray_path\n",
    "                    \"data/yy_checkpoint_net_20.pt\",#checkpoint_path\n",
    "                    \"data/\", # Ct_path\n",
    "                    \"data/landmarks_2d.csv\" # landmarks_3d_path\n",
    "                    \"data/\" # Ct_segmentation_path\n",
    "                    ])"
   ]
  }
 ],
 "metadata": {
  "kernelspec": {
   "display_name": "Python 3",
   "language": "python",
   "name": "python3"
  },
  "language_info": {
   "codemirror_mode": {
    "name": "ipython",
    "version": 3
   },
   "file_extension": ".py",
   "mimetype": "text/x-python",
   "name": "python",
   "nbconvert_exporter": "python",
   "pygments_lexer": "ipython3",
   "version": "3.9.13"
  },
  "orig_nbformat": 4
 },
 "nbformat": 4,
 "nbformat_minor": 2
}
