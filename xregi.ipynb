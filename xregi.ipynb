{
  "nbformat": 4,
  "nbformat_minor": 0,
  "metadata": {
    "colab": {
      "provenance": [],
      "authorship_tag": "ABX9TyPw4p+pnJxZgCi+PmFle5lr",
      "include_colab_link": true
    },
    "kernelspec": {
      "name": "python3",
      "display_name": "Python 3"
    },
    "language_info": {
      "name": "python"
    },
    "accelerator": "GPU",
    "gpuClass": "standard"
  },
  "cells": [
    {
      "cell_type": "markdown",
      "metadata": {
        "id": "view-in-github",
        "colab_type": "text"
      },
      "source": [
        "<a href=\"https://colab.research.google.com/github/shez12/xregi/blob/dev-syn/xregi.ipynb\" target=\"_parent\"><img src=\"https://colab.research.google.com/assets/colab-badge.svg\" alt=\"Open In Colab\"/></a>"
      ]
    },
    {
      "cell_type": "code",
      "execution_count": null,
      "metadata": {
        "id": "04RfRgIqicaU",
        "colab": {
          "base_uri": "https://localhost:8080/"
        },
        "outputId": "08211938-1aae-4fc5-ba38-74e660fef4d2"
      },
      "outputs": [
        {
          "output_type": "stream",
          "name": "stdout",
          "text": [
            "Cloning into 'xregi'...\n",
            "remote: Enumerating objects: 594, done.\u001b[K\n",
            "remote: Counting objects: 100% (288/288), done.\u001b[K\n",
            "remote: Compressing objects: 100% (217/217), done.\u001b[K\n",
            "remote: Total 594 (delta 106), reused 233 (delta 70), pack-reused 306\u001b[K\n",
            "Receiving objects: 100% (594/594), 38.96 MiB | 17.45 MiB/s, done.\n",
            "Resolving deltas: 100% (282/282), done.\n",
            "/content/xregi/xregi/xregi/xregi/xregi\n",
            "Branch 'dev-syn' set up to track remote branch 'dev-syn' from 'origin'.\n",
            "Switched to a new branch 'dev-syn'\n",
            "/content/xregi/xregi/xregi/xregi/xregi/xregi\n"
          ]
        }
      ],
      "source": [
        "!git clone https://github.com/shez12/xregi\n",
        "%cd xregi\n",
        "!git checkout dev-syn\n",
        "%cd xregi\n"
      ]
    },
    {
      "cell_type": "code",
      "source": [
        "!pip install ."
      ],
      "metadata": {
        "colab": {
          "base_uri": "https://localhost:8080/"
        },
        "id": "NefV6maWGKId",
        "outputId": "aba66795-52ea-4f88-b99f-1642eec6646f"
      },
      "execution_count": null,
      "outputs": [
        {
          "output_type": "stream",
          "name": "stdout",
          "text": [
            "Looking in indexes: https://pypi.org/simple, https://us-python.pkg.dev/colab-wheels/public/simple/\n",
            "Processing /content/xregi/xregi/xregi/xregi/xregi/xregi\n",
            "  Preparing metadata (setup.py) ... \u001b[?25l\u001b[?25hdone\n",
            "Requirement already satisfied: absl-py==1.2.0 in /usr/local/lib/python3.9/dist-packages (from xregi==1.0) (1.2.0)\n",
            "Collecting argparse==1.4.0\n",
            "  Using cached argparse-1.4.0-py2.py3-none-any.whl (23 kB)\n",
            "Requirement already satisfied: batchgenerators==0.24 in /usr/local/lib/python3.9/dist-packages (from xregi==1.0) (0.24)\n",
            "Requirement already satisfied: cachetools==5.2.0 in /usr/local/lib/python3.9/dist-packages (from xregi==1.0) (5.2.0)\n",
            "Requirement already satisfied: charset-normalizer==2.1.0 in /usr/local/lib/python3.9/dist-packages (from xregi==1.0) (2.1.0)\n",
            "Requirement already satisfied: contextlib2==21.6.0 in /usr/local/lib/python3.9/dist-packages (from xregi==1.0) (21.6.0)\n",
            "Requirement already satisfied: cycler==0.11.0 in /usr/local/lib/python3.9/dist-packages (from xregi==1.0) (0.11.0)\n",
            "Requirement already satisfied: dicom2nifti==2.4.3 in /usr/local/lib/python3.9/dist-packages (from xregi==1.0) (2.4.3)\n",
            "Requirement already satisfied: fonttools==4.34.4 in /usr/local/lib/python3.9/dist-packages (from xregi==1.0) (4.34.4)\n",
            "Requirement already satisfied: future==0.18.2 in /usr/local/lib/python3.9/dist-packages (from xregi==1.0) (0.18.2)\n",
            "Collecting grpcio==1.48.2\n",
            "  Using cached grpcio-1.48.2-cp39-cp39-manylinux_2_17_x86_64.manylinux2014_x86_64.whl (4.6 MB)\n",
            "Requirement already satisfied: h5py==3.7.0 in /usr/local/lib/python3.9/dist-packages (from xregi==1.0) (3.7.0)\n",
            "Requirement already satisfied: idna==3.3 in /usr/local/lib/python3.9/dist-packages (from xregi==1.0) (3.3)\n",
            "Requirement already satisfied: imageio==2.21.0 in /usr/local/lib/python3.9/dist-packages (from xregi==1.0) (2.21.0)\n",
            "Requirement already satisfied: imgaug==0.4.0 in /usr/local/lib/python3.9/dist-packages (from xregi==1.0) (0.4.0)\n",
            "Requirement already satisfied: importlib-metadata==4.12.0 in /usr/local/lib/python3.9/dist-packages (from xregi==1.0) (4.12.0)\n",
            "Collecting joblib==1.1.1\n",
            "  Using cached joblib-1.1.1-py2.py3-none-any.whl (309 kB)\n",
            "Requirement already satisfied: kiwisolver==1.4.4 in /usr/local/lib/python3.9/dist-packages (from xregi==1.0) (1.4.4)\n",
            "Requirement already satisfied: linecache2==1.0.0 in /usr/local/lib/python3.9/dist-packages (from xregi==1.0) (1.0.0)\n",
            "Requirement already satisfied: markdown==3.4.1 in /usr/local/lib/python3.9/dist-packages (from xregi==1.0) (3.4.1)\n",
            "Requirement already satisfied: markupsafe==2.1.1 in /usr/local/lib/python3.9/dist-packages (from xregi==1.0) (2.1.1)\n",
            "Requirement already satisfied: matplotlib==3.5.2 in /usr/local/lib/python3.9/dist-packages (from xregi==1.0) (3.5.2)\n",
            "Requirement already satisfied: medpy==0.4.0 in /usr/local/lib/python3.9/dist-packages (from xregi==1.0) (0.4.0)\n",
            "Requirement already satisfied: ml-collections==0.1.1 in /usr/local/lib/python3.9/dist-packages (from xregi==1.0) (0.1.1)\n",
            "Requirement already satisfied: networkx==2.8.5 in /usr/local/lib/python3.9/dist-packages (from xregi==1.0) (2.8.5)\n",
            "Requirement already satisfied: nibabel==4.0.1 in /usr/local/lib/python3.9/dist-packages (from xregi==1.0) (4.0.1)\n",
            "Requirement already satisfied: numpy==1.23.1 in /usr/local/lib/python3.9/dist-packages (from xregi==1.0) (1.23.1)\n",
            "Requirement already satisfied: oauthlib==3.2.0 in /usr/local/lib/python3.9/dist-packages (from xregi==1.0) (3.2.0)\n",
            "Requirement already satisfied: opencv-python==4.6.0.66 in /usr/local/lib/python3.9/dist-packages (from xregi==1.0) (4.6.0.66)\n",
            "Requirement already satisfied: packaging==21.3 in /usr/local/lib/python3.9/dist-packages (from xregi==1.0) (21.3)\n",
            "Collecting pandas==1.5.3\n",
            "  Using cached pandas-1.5.3-cp39-cp39-manylinux_2_17_x86_64.manylinux2014_x86_64.whl (12.2 MB)\n",
            "Requirement already satisfied: pillow==9.2.0 in /usr/local/lib/python3.9/dist-packages (from xregi==1.0) (9.2.0)\n",
            "Requirement already satisfied: pyasn1==0.4.8 in /usr/local/lib/python3.9/dist-packages (from xregi==1.0) (0.4.8)\n",
            "Requirement already satisfied: pyasn1-modules==0.2.8 in /usr/local/lib/python3.9/dist-packages (from xregi==1.0) (0.2.8)\n",
            "Requirement already satisfied: pydicom==2.3.0 in /usr/local/lib/python3.9/dist-packages (from xregi==1.0) (2.3.0)\n",
            "Requirement already satisfied: pyparsing==3.0.9 in /usr/local/lib/python3.9/dist-packages (from xregi==1.0) (3.0.9)\n",
            "Requirement already satisfied: python-dateutil==2.8.2 in /usr/local/lib/python3.9/dist-packages (from xregi==1.0) (2.8.2)\n",
            "Requirement already satisfied: python-gdcm==3.0.14 in /usr/local/lib/python3.9/dist-packages (from xregi==1.0) (3.0.14)\n",
            "Collecting pytz==2022.5\n",
            "  Using cached pytz-2022.5-py2.py3-none-any.whl (500 kB)\n",
            "Requirement already satisfied: pywavelets==1.3.0 in /usr/local/lib/python3.9/dist-packages (from xregi==1.0) (1.3.0)\n",
            "Requirement already satisfied: pyyaml==6.0 in /usr/local/lib/python3.9/dist-packages (from xregi==1.0) (6.0)\n",
            "Requirement already satisfied: requests==2.28.1 in /usr/local/lib/python3.9/dist-packages (from xregi==1.0) (2.28.1)\n",
            "Requirement already satisfied: requests-oauthlib==1.3.1 in /usr/local/lib/python3.9/dist-packages (from xregi==1.0) (1.3.1)\n",
            "Requirement already satisfied: rsa==4.9 in /usr/local/lib/python3.9/dist-packages (from xregi==1.0) (4.9)\n",
            "Requirement already satisfied: scikit-image==0.19.3 in /usr/local/lib/python3.9/dist-packages (from xregi==1.0) (0.19.3)\n",
            "Requirement already satisfied: scikit-learn==1.1.1 in /usr/local/lib/python3.9/dist-packages (from xregi==1.0) (1.1.1)\n",
            "Requirement already satisfied: scipy==1.9.0 in /usr/local/lib/python3.9/dist-packages (from xregi==1.0) (1.9.0)\n",
            "Requirement already satisfied: shapely==1.8.2 in /usr/local/lib/python3.9/dist-packages (from xregi==1.0) (1.8.2)\n",
            "Requirement already satisfied: simpleitk==2.1.1.2 in /usr/local/lib/python3.9/dist-packages (from xregi==1.0) (2.1.1.2)\n",
            "Requirement already satisfied: six==1.16.0 in /usr/local/lib/python3.9/dist-packages (from xregi==1.0) (1.16.0)\n",
            "Requirement already satisfied: sklearn==0.0 in /usr/local/lib/python3.9/dist-packages (from xregi==1.0) (0.0)\n",
            "Requirement already satisfied: threadpoolctl==3.1.0 in /usr/local/lib/python3.9/dist-packages (from xregi==1.0) (3.1.0)\n",
            "Requirement already satisfied: tifffile==2022.7.31 in /usr/local/lib/python3.9/dist-packages (from xregi==1.0) (2022.7.31)\n",
            "Collecting torch==2.0.0\n",
            "  Using cached torch-2.0.0-cp39-cp39-manylinux1_x86_64.whl (619.9 MB)\n",
            "Requirement already satisfied: tqdm==4.64.0 in /usr/local/lib/python3.9/dist-packages (from xregi==1.0) (4.64.0)\n",
            "Requirement already satisfied: traceback2==1.4.0 in /usr/local/lib/python3.9/dist-packages (from xregi==1.0) (1.4.0)\n",
            "Requirement already satisfied: typing-extensions==4.3.0 in /usr/local/lib/python3.9/dist-packages (from xregi==1.0) (4.3.0)\n",
            "Requirement already satisfied: unittest2==1.1.0 in /usr/local/lib/python3.9/dist-packages (from xregi==1.0) (1.1.0)\n",
            "Requirement already satisfied: urllib3==1.26.11 in /usr/local/lib/python3.9/dist-packages (from xregi==1.0) (1.26.11)\n",
            "Requirement already satisfied: zipp==3.8.1 in /usr/local/lib/python3.9/dist-packages (from xregi==1.0) (3.8.1)\n",
            "Requirement already satisfied: setuptools in /usr/local/lib/python3.9/dist-packages (from nibabel==4.0.1->xregi==1.0) (67.6.1)\n",
            "Requirement already satisfied: certifi>=2017.4.17 in /usr/local/lib/python3.9/dist-packages (from requests==2.28.1->xregi==1.0) (2022.12.7)\n",
            "Collecting nvidia-cusparse-cu11==11.7.4.91\n",
            "  Using cached nvidia_cusparse_cu11-11.7.4.91-py3-none-manylinux1_x86_64.whl (173.2 MB)\n",
            "Collecting nvidia-cusolver-cu11==11.4.0.1\n",
            "  Using cached nvidia_cusolver_cu11-11.4.0.1-2-py3-none-manylinux1_x86_64.whl (102.6 MB)\n",
            "Collecting nvidia-cuda-cupti-cu11==11.7.101\n",
            "  Using cached nvidia_cuda_cupti_cu11-11.7.101-py3-none-manylinux1_x86_64.whl (11.8 MB)\n",
            "Collecting nvidia-cufft-cu11==10.9.0.58\n",
            "  Using cached nvidia_cufft_cu11-10.9.0.58-py3-none-manylinux1_x86_64.whl (168.4 MB)\n",
            "Collecting nvidia-nvtx-cu11==11.7.91\n",
            "  Using cached nvidia_nvtx_cu11-11.7.91-py3-none-manylinux1_x86_64.whl (98 kB)\n",
            "Requirement already satisfied: filelock in /usr/local/lib/python3.9/dist-packages (from torch==2.0.0->xregi==1.0) (3.11.0)\n",
            "Requirement already satisfied: jinja2 in /usr/local/lib/python3.9/dist-packages (from torch==2.0.0->xregi==1.0) (3.1.2)\n",
            "Collecting nvidia-cuda-nvrtc-cu11==11.7.99\n",
            "  Using cached nvidia_cuda_nvrtc_cu11-11.7.99-2-py3-none-manylinux1_x86_64.whl (21.0 MB)\n",
            "Collecting nvidia-cublas-cu11==11.10.3.66\n",
            "  Using cached nvidia_cublas_cu11-11.10.3.66-py3-none-manylinux1_x86_64.whl (317.1 MB)\n",
            "Collecting nvidia-curand-cu11==10.2.10.91\n",
            "  Using cached nvidia_curand_cu11-10.2.10.91-py3-none-manylinux1_x86_64.whl (54.6 MB)\n",
            "Collecting nvidia-nccl-cu11==2.14.3\n",
            "  Using cached nvidia_nccl_cu11-2.14.3-py3-none-manylinux1_x86_64.whl (177.1 MB)\n",
            "Requirement already satisfied: sympy in /usr/local/lib/python3.9/dist-packages (from torch==2.0.0->xregi==1.0) (1.11.1)\n",
            "Collecting nvidia-cudnn-cu11==8.5.0.96\n",
            "  Using cached nvidia_cudnn_cu11-8.5.0.96-2-py3-none-manylinux1_x86_64.whl (557.1 MB)\n",
            "Requirement already satisfied: triton==2.0.0 in /usr/local/lib/python3.9/dist-packages (from torch==2.0.0->xregi==1.0) (2.0.0)\n",
            "Collecting nvidia-cuda-runtime-cu11==11.7.99\n",
            "  Using cached nvidia_cuda_runtime_cu11-11.7.99-py3-none-manylinux1_x86_64.whl (849 kB)\n",
            "Requirement already satisfied: wheel in /usr/local/lib/python3.9/dist-packages (from nvidia-cublas-cu11==11.10.3.66->torch==2.0.0->xregi==1.0) (0.40.0)\n",
            "Requirement already satisfied: cmake in /usr/local/lib/python3.9/dist-packages (from triton==2.0.0->torch==2.0.0->xregi==1.0) (3.25.2)\n",
            "Requirement already satisfied: lit in /usr/local/lib/python3.9/dist-packages (from triton==2.0.0->torch==2.0.0->xregi==1.0) (16.0.1)\n",
            "Requirement already satisfied: mpmath>=0.19 in /usr/local/lib/python3.9/dist-packages (from sympy->torch==2.0.0->xregi==1.0) (1.3.0)\n",
            "Building wheels for collected packages: xregi\n",
            "  Building wheel for xregi (setup.py) ... \u001b[?25l\u001b[?25hdone\n",
            "  Created wheel for xregi: filename=xregi-1.0-py3-none-any.whl size=31670 sha256=380eaa4f915aaa47be199b013eacca0f160b915c85b9a6135c49ebd151881005\n",
            "  Stored in directory: /tmp/pip-ephem-wheel-cache-k7ulrv4w/wheels/22/f9/56/84f561333e27271f4cbf0123e37b21fe76e766df01532dfcce\n",
            "Successfully built xregi\n",
            "Installing collected packages: pytz, argparse, nvidia-nvtx-cu11, nvidia-nccl-cu11, nvidia-cusparse-cu11, nvidia-curand-cu11, nvidia-cufft-cu11, nvidia-cuda-runtime-cu11, nvidia-cuda-nvrtc-cu11, nvidia-cuda-cupti-cu11, nvidia-cublas-cu11, joblib, grpcio, pandas, nvidia-cusolver-cu11, nvidia-cudnn-cu11, torch, xregi\n",
            "  Attempting uninstall: pytz\n",
            "    Found existing installation: pytz 2022.1\n",
            "    Uninstalling pytz-2022.1:\n",
            "      Successfully uninstalled pytz-2022.1\n",
            "  Attempting uninstall: joblib\n",
            "    Found existing installation: joblib 1.1.0\n",
            "    Uninstalling joblib-1.1.0:\n",
            "      Successfully uninstalled joblib-1.1.0\n",
            "  Attempting uninstall: grpcio\n",
            "    Found existing installation: grpcio 1.47.0\n",
            "    Uninstalling grpcio-1.47.0:\n",
            "      Successfully uninstalled grpcio-1.47.0\n",
            "  Attempting uninstall: pandas\n",
            "    Found existing installation: pandas 1.4.3\n",
            "    Uninstalling pandas-1.4.3:\n",
            "      Successfully uninstalled pandas-1.4.3\n",
            "  Attempting uninstall: torch\n",
            "    Found existing installation: torch 1.12.0\n",
            "    Uninstalling torch-1.12.0:\n",
            "      Successfully uninstalled torch-1.12.0\n",
            "  Attempting uninstall: xregi\n",
            "    Found existing installation: xregi 1.0\n",
            "    Uninstalling xregi-1.0:\n",
            "      Successfully uninstalled xregi-1.0\n",
            "\u001b[31mERROR: pip's dependency resolver does not currently take into account all the packages that are installed. This behaviour is the source of the following dependency conflicts.\n",
            "torchvision 0.13.0 requires torch==1.12.0, but you have torch 2.0.0 which is incompatible.\u001b[0m\u001b[31m\n",
            "\u001b[0mSuccessfully installed argparse-1.4.0 grpcio-1.48.2 joblib-1.1.1 nvidia-cublas-cu11-11.10.3.66 nvidia-cuda-cupti-cu11-11.7.101 nvidia-cuda-nvrtc-cu11-11.7.99 nvidia-cuda-runtime-cu11-11.7.99 nvidia-cudnn-cu11-8.5.0.96 nvidia-cufft-cu11-10.9.0.58 nvidia-curand-cu11-10.2.10.91 nvidia-cusolver-cu11-11.4.0.1 nvidia-cusparse-cu11-11.7.4.91 nvidia-nccl-cu11-2.14.3 nvidia-nvtx-cu11-11.7.91 pandas-1.5.3 pytz-2022.5 torch-2.0.0 xregi-1.0\n"
          ]
        }
      ]
    },
    {
      "cell_type": "code",
      "source": [
        "!wget --no-check-certificate -r 'https://drive.google.com/uc?export=download&id=1XzQgWfMVtkCq-Nnk2l_lE3UWeG2kEnyc' -O output_folder\n"
      ],
      "metadata": {
        "id": "MeYYameM1JUE"
      },
      "execution_count": null,
      "outputs": []
    },
    {
      "cell_type": "code",
      "source": [
        "!python registration_2d_3d.py"
      ],
      "metadata": {
        "colab": {
          "base_uri": "https://localhost:8080/"
        },
        "id": "LdRzsq-oDiwe",
        "outputId": "7f50610b-1edc-4f7d-da1a-7c2385c21bf0"
      },
      "execution_count": null,
      "outputs": [
        {
          "output_type": "stream",
          "name": "stdout",
          "text": [
            "Current working directory:  /root/xregi/xregi/bin/xregi/xregi\n",
            "Traceback (most recent call last):\n",
            "  File \"/root/xregi/xregi/bin/xregi/xregi/registration_2d_3d.py\", line 10, in <module>\n",
            "    class Registration2D3D:\n",
            "  File \"/root/xregi/xregi/bin/xregi/xregi/registration_2d_3d.py\", line 20, in Registration2D3D\n",
            "    landmarks_3d: Dict[str, List[float, float, float]],\n",
            "  File \"/usr/lib/python3.9/typing.py\", line 277, in inner\n",
            "    return func(*args, **kwds)\n",
            "  File \"/usr/lib/python3.9/typing.py\", line 838, in __getitem__\n",
            "    _check_generic(self, params, self._nparams)\n",
            "  File \"/usr/local/lib/python3.9/dist-packages/typing_extensions.py\", line 104, in _check_generic\n",
            "    raise TypeError(f\"Too {'many' if alen > elen else 'few'} parameters for {cls};\"\n",
            "TypeError: Too many parameters for typing.List; actual 3, expected 1\n"
          ]
        }
      ]
    },
    {
      "cell_type": "code",
      "source": [
        "\n",
        "!chmod +x /root/xregi/xregi/bin/xreg-hip-surg-pelvis-single-view-regi-2d-3d\n",
        "!/root/xregi/xregi/bin/xreg-hip-surg-pelvis-single-view-regi-2d-3d"
      ],
      "metadata": {
        "colab": {
          "base_uri": "https://localhost:8080/"
        },
        "id": "JYnVghIeKmI7",
        "outputId": "277f92be-facf-4254-b425-0b447ab1147d"
      },
      "execution_count": null,
      "outputs": [
        {
          "output_type": "stream",
          "name": "stdout",
          "text": [
            "Error parsing command line arguments: Not enough positional arguments; 0 provided, need 4\n",
            "Usage xreg-hip-surg-pelvis-single-view-regi-2d-3d [options] <Input CT vol.> <3D Landmarks> <Proj. Data File> <output pose> [<output debug data file>]\n"
          ]
        }
      ]
    },
    {
      "cell_type": "code",
      "source": [
        "import subprocess\n",
        "\n",
        "# This is a simple test script to call the executable file\n",
        "# the executables are located in the bin folder\n",
        "# the data is located in the data folder\n",
        "# the executables that are called in the scritps are called\n",
        "# xreg-hip-surg-pelvis-single-view-regi-2d-3d\n",
        "\n",
        "def main(runOptions: str):\n",
        "    # Call the executable file\n",
        "\n",
        "    if runOptions == 'run_reg':\n",
        "        print(\"run_reg is running ...\")\n",
        "\n",
        "        result = subprocess.run([   \"/root/xregi/xregi/bin/xreg-hip-surg-pelvis-single-view-regi-2d-3d\",\n",
        "                                    \"data/pelvis.nii.gz\",\n",
        "                                    \"data/pelvis_regi_2d_3d_lands_wo_id.fcsv\",\n",
        "                                    \"data/example1_1_pd_003.h5\",\n",
        "                                    \"result/regi_pose_example1_1_pd_003_proj0.h5\",\n",
        "                                    \"result/regi_debug_example1_1_pd_003_proj0_w_seg.h5\",\n",
        "                                    \"-s\",\n",
        "                                    \"data/pelvis_seg.nii.gz\"], stdout=subprocess.PIPE)\n",
        "        print(\"11\")\n",
        "        # Print the output of the executable file\n",
        "        print(result)\n",
        "\n",
        "    elif runOptions == 'run_viz':\n",
        "        result = subprocess.run([   \"bin/xreg-regi2d3d-replay\",\n",
        "                                    \"result/regi_debug_example1_1_pd_003_proj0_w_seg.h5\",\n",
        "                                    \"--video-fps\",\n",
        "                                    \"10\",\n",
        "                                    \"--proj-ds\",\n",
        "                                    \"0.5\"], stdout=subprocess.PIPE)\n",
        "        print(result.stdout.decode())\n",
        "\n",
        "main(\"run_reg\")"
      ],
      "metadata": {
        "colab": {
          "base_uri": "https://localhost:8080/"
        },
        "id": "kCYE78w4S903",
        "outputId": "c6286de7-13da-4ae2-ca16-eff84923f3a7"
      },
      "execution_count": null,
      "outputs": [
        {
          "output_type": "stream",
          "name": "stdout",
          "text": [
            "run_reg is running ...\n",
            "11\n",
            "CompletedProcess(args=['/root/xregi/xregi/bin/xreg-hip-surg-pelvis-single-view-regi-2d-3d', 'data/pelvis.nii.gz', 'data/pelvis_regi_2d_3d_lands_wo_id.fcsv', 'data/example1_1_pd_003.h5', 'result/regi_pose_example1_1_pd_003_proj0.h5', 'result/regi_debug_example1_1_pd_003_proj0_w_seg.h5', '-s', 'data/pelvis_seg.nii.gz'], returncode=-6, stdout=b'')\n"
          ]
        }
      ]
    },
    {
      "cell_type": "code",
      "source": [],
      "metadata": {
        "id": "cvb2niwFV1SD"
      },
      "execution_count": null,
      "outputs": []
    }
  ]
}