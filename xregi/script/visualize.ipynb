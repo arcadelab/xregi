{
 "cells": [
  {
   "cell_type": "code",
   "execution_count": 2,
   "metadata": {},
   "outputs": [],
   "source": [
    "import h5py as ht\n",
    "import numpy as np\n",
    "import cv2\n",
    "import vis_utils"
   ]
  },
  {
   "cell_type": "code",
   "execution_count": 4,
   "metadata": {},
   "outputs": [
    {
     "name": "stdout",
     "output_type": "stream",
     "text": [
      "(768, 768, 3)\n"
     ]
    }
   ],
   "source": [
    "path = \"../data/xray/0327.png\"\n",
    "origin_image = cv2.imread(path)\n",
    "print(origin_image.shape)\n",
    "points = np.array([\n",
    "    [273.06666667, 330.66666667],\n",
    "    [328.53333333, 115.2],\n",
    "    [396.8, 469.33333333],\n",
    "    [716.8, 473.6],\n",
    "    [503.46666667, 477.86666667],\n",
    "    [629.33333333, 465.06666667],\n",
    "    [576.0, 465.06666667],\n",
    "    [633.6, 505.6],\n",
    "    [584.53333333, 507.73333333],\n",
    "    [170.66666667, 166.4]\n",
    "])\n",
    "\n",
    "# Draw the points on the image\n",
    "for point in points:\n",
    "    x, y = point\n",
    "    cv2.circle(origin_image, (int(x), int(y)), 10, (0, 255, 0), -1)\n",
    "cv2.imshow(\"origin\", origin_image)\n",
    "cv2.imwrite(\"origin.png\", origin_image)\n",
    "cv2.waitKey(0)\n",
    "\n",
    "# Clean up\n",
    "cv2.destroyAllWindows()"
   ]
  },
  {
   "attachments": {},
   "cell_type": "markdown",
   "metadata": {},
   "source": [
    "keypoints = np.array([\n",
    "    [273.06666667, 330.66666667],\n",
    "    [328.53333333, 115.2],\n",
    "    [396.8, 469.33333333],\n",
    "    [716.8, 473.6],\n",
    "    [503.46666667, 477.86666667],\n",
    "    [629.33333333, 465.06666667],\n",
    "    [576.0, 465.06666667],\n",
    "    [633.6, 505.6],\n",
    "    [584.53333333, 507.73333333],\n",
    "    [170.66666667, 166.4]\n",
    "])\n",
    "\n"
   ]
  }
 ],
 "metadata": {
  "kernelspec": {
   "display_name": "synthex",
   "language": "python",
   "name": "python3"
  },
  "language_info": {
   "codemirror_mode": {
    "name": "ipython",
    "version": 3
   },
   "file_extension": ".py",
   "mimetype": "text/x-python",
   "name": "python",
   "nbconvert_exporter": "python",
   "pygments_lexer": "ipython3",
   "version": "3.8.16"
  },
  "orig_nbformat": 4
 },
 "nbformat": 4,
 "nbformat_minor": 2
}
