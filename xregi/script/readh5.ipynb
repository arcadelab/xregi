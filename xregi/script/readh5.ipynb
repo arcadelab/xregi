{
 "cells": [
  {
   "cell_type": "code",
   "execution_count": 1,
   "metadata": {},
   "outputs": [
    {
     "name": "stdout",
     "output_type": "stream",
     "text": [
      "/home/jeremy/Documents/xregi/xregi\n"
     ]
    }
   ],
   "source": [
    "import h5py\n",
    "%cd ..\n",
    "path1 = \"data/example1_1_pd_003.h5\"\n",
    "path2 = \"data/xreg_input.h5\"\n"
   ]
  },
  {
   "cell_type": "code",
   "execution_count": 2,
   "metadata": {},
   "outputs": [
    {
     "name": "stdout",
     "output_type": "stream",
     "text": [
      "[[ 135.48969]\n",
      " [1197.2681 ]]\n",
      "[[396.8    ]\n",
      " [469.33334]]\n",
      "<KeysViewHDF5 ['ASIS-r', 'FH-r', 'IOF-r', 'IPS-l', 'IPS-r', 'MOF-l', 'SPS-r']>\n",
      "<KeysViewHDF5 ['GSN-l', 'IOF-l', 'IOF-r', 'IPS-l', 'IPS-r', 'MOF-l', 'MOF-r', 'SPS-l', 'SPS-r']>\n",
      "origin-at-focal-pt-det-neg-z\n"
     ]
    }
   ],
   "source": [
    "f1 = h5py.File(path1, 'r')\n",
    "f2 = h5py.File(path2, 'r')\n",
    "\n",
    "print(f1[\"proj-000/landmarks/IOF-r\"][...])\n",
    "print(f2[\"proj-000/landmarks/IOF-r\"][...])\n",
    "print(f2[\"proj-000/landmarks\"].keys())\n",
    "print(f1[\"proj-000/landmarks\"].keys())\n",
    "\n",
    "print(f1[\"proj-000/cam/cam-coord-frame-type\"][()].decode(\"utf-8\"))\n",
    "image = f1['proj-000/img/pixels'][...]\n",
    "\n",
    "\n",
    "f1.close()\n",
    "f2.close()"
   ]
  },
  {
   "cell_type": "code",
   "execution_count": 7,
   "metadata": {},
   "outputs": [
    {
     "name": "stdout",
     "output_type": "stream",
     "text": [
      "<class 'numpy.ndarray'>\n"
     ]
    },
    {
     "data": {
      "text/plain": [
       "True"
      ]
     },
     "execution_count": 7,
     "metadata": {},
     "output_type": "execute_result"
    }
   ],
   "source": [
    "import cv2\n",
    "#save image as png\n",
    "\n",
    "print(type(image))\n",
    "\n",
    "cv2.imwrite(\"example1_1_pd_003.png\", image*20)"
   ]
  },
  {
   "cell_type": "code",
   "execution_count": null,
   "metadata": {},
   "outputs": [],
   "source": []
  }
 ],
 "metadata": {
  "kernelspec": {
   "display_name": "synthex",
   "language": "python",
   "name": "python3"
  },
  "language_info": {
   "codemirror_mode": {
    "name": "ipython",
    "version": 3
   },
   "file_extension": ".py",
   "mimetype": "text/x-python",
   "name": "python",
   "nbconvert_exporter": "python",
   "pygments_lexer": "ipython3",
   "version": "3.8.16"
  },
  "orig_nbformat": 4
 },
 "nbformat": 4,
 "nbformat_minor": 2
}
